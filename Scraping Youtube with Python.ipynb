{
 "cells": [
  {
   "cell_type": "code",
   "execution_count": 1,
   "id": "192a5738-d95f-49bb-b0cf-9cd9b399f082",
   "metadata": {},
   "outputs": [
    {
     "name": "stdout",
     "output_type": "stream",
     "text": [
      "Requirement already satisfied: yt_dlp in c:\\users\\asus\\anaconda3\\lib\\site-packages (2024.7.9)Note: you may need to restart the kernel to use updated packages.\n",
      "\n",
      "Requirement already satisfied: brotli in c:\\users\\asus\\anaconda3\\lib\\site-packages (from yt_dlp) (1.0.9)\n",
      "Requirement already satisfied: certifi in c:\\users\\asus\\anaconda3\\lib\\site-packages (from yt_dlp) (2024.7.4)\n",
      "Requirement already satisfied: mutagen in c:\\users\\asus\\anaconda3\\lib\\site-packages (from yt_dlp) (1.47.0)\n",
      "Requirement already satisfied: pycryptodomex in c:\\users\\asus\\anaconda3\\lib\\site-packages (from yt_dlp) (3.20.0)\n",
      "Requirement already satisfied: requests<3,>=2.32.2 in c:\\users\\asus\\anaconda3\\lib\\site-packages (from yt_dlp) (2.32.2)\n",
      "Requirement already satisfied: urllib3<3,>=1.26.17 in c:\\users\\asus\\anaconda3\\lib\\site-packages (from yt_dlp) (2.2.2)\n",
      "Requirement already satisfied: websockets>=12.0 in c:\\users\\asus\\anaconda3\\lib\\site-packages (from yt_dlp) (12.0)\n",
      "Requirement already satisfied: charset-normalizer<4,>=2 in c:\\users\\asus\\anaconda3\\lib\\site-packages (from requests<3,>=2.32.2->yt_dlp) (2.0.4)\n",
      "Requirement already satisfied: idna<4,>=2.5 in c:\\users\\asus\\anaconda3\\lib\\site-packages (from requests<3,>=2.32.2->yt_dlp) (3.7)\n"
     ]
    }
   ],
   "source": [
    "pip install yt_dlp\n"
   ]
  },
  {
   "cell_type": "code",
   "execution_count": 2,
   "id": "e9fe88d8-b547-43ec-8119-4e4cd16a7e6a",
   "metadata": {},
   "outputs": [
    {
     "name": "stdin",
     "output_type": "stream",
     "text": [
      "Enter Link of Youtube Video:  https://youtu.be/-3gQ6HIkRys?si=7eRzEeLfY3EWcPrC\n"
     ]
    },
    {
     "name": "stdout",
     "output_type": "stream",
     "text": [
      "[youtube] Extracting URL: https://youtu.be/-3gQ6HIkRys?si=7eRzEeLfY3EWcPrC\n",
      "[youtube] -3gQ6HIkRys: Downloading webpage\n",
      "[youtube] -3gQ6HIkRys: Downloading ios player API JSON\n",
      "[youtube] -3gQ6HIkRys: Downloading m3u8 information\n"
     ]
    },
    {
     "name": "stderr",
     "output_type": "stream",
     "text": [
      "WARNING: [youtube] Failed to download m3u8 information: <urllib3.connection.HTTPSConnection object at 0x000002B599E4EEA0>: Failed to resolve 'manifest.googlevideo.com' ([Errno 11001] getaddrinfo failed)\n",
      "WARNING: ffmpeg not found. The downloaded format may not be the best available. Installing ffmpeg is strongly recommended: https://github.com/yt-dlp/yt-dlp#dependencies\n"
     ]
    },
    {
     "name": "stdout",
     "output_type": "stream",
     "text": [
      "Title: \"Phir Se Ud Chala  Lyrcial Video | Rockstar\" | Ranbir Kapoor\n",
      "Views: 28589194\n",
      "Duration: 277\n",
      "Description: Enjoy the latest song \"Phir Se Ud Chala\" lyrical video starring Ranbir Kapoor from the  Bollywood movie Rockstar. Some shots of this song were shoot in T-Series film studio's to give it more realistic look. \n",
      "\n",
      "Song ~Phir Se Ud Chala\n",
      "Movie ~ Rockstar\n",
      "Starcast ~ Ranbir Kapoor, Nargis Fakhri\n",
      "Singer ~ Mohit Chauhan\n",
      "Music By ~ A R Rahman\n",
      "Music Label ~ T-Series\n",
      "___\n",
      "Enjoy & stay connected with us!\n",
      "► Subscribe to T-Series: http://bit.ly/TSeriesYouTube\n",
      "► Like us on Facebook: https://www.facebook.com/tseriesmusic\n",
      "► Follow us on Twitter: https://twitter.com/tseries\n",
      "► Follow us on Instagram: http://bit.ly/InstagramTseries\n",
      "Ratings: None\n"
     ]
    }
   ],
   "source": [
    "import yt_dlp\n",
    "\n",
    "link = input(\"Enter Link of Youtube Video: \")\n",
    "\n",
    "ydl_opts = {}\n",
    "\n",
    "with yt_dlp.YoutubeDL(ydl_opts) as ydl:\n",
    "    try:\n",
    "        info = ydl.extract_info(link, download=False)\n",
    "        \n",
    "        # To print title\n",
    "        title = info.get('title', 'N/A')\n",
    "        print(\"Title:\", title)\n",
    "        \n",
    "        # To get number of views\n",
    "        views = info.get('view_count', 'N/A')\n",
    "        print(\"Views:\", views)\n",
    "        \n",
    "        # To get the length of video\n",
    "        duration = info.get('duration', 'N/A')\n",
    "        print(\"Duration:\", duration)\n",
    "        \n",
    "        # To get description\n",
    "        description = info.get('description', 'N/A')\n",
    "        print(\"Description:\", description)\n",
    "        \n",
    "        # To get ratings\n",
    "        rating = info.get('average_rating', 'N/A')\n",
    "        print(\"Ratings:\", rating)\n",
    "        \n",
    "    except yt_dlp.utils.DownloadError as e:\n",
    "        print(f\"Error: {e}\")\n",
    "    except Exception as e:\n",
    "        print(\"An error occurred:\", e)\n"
   ]
  },
  {
   "cell_type": "code",
   "execution_count": null,
   "id": "455ce8dd-4fd2-4049-9560-60d0140386ee",
   "metadata": {},
   "outputs": [],
   "source": []
  }
 ],
 "metadata": {
  "kernelspec": {
   "display_name": "Python 3 (ipykernel)",
   "language": "python",
   "name": "python3"
  },
  "language_info": {
   "codemirror_mode": {
    "name": "ipython",
    "version": 3
   },
   "file_extension": ".py",
   "mimetype": "text/x-python",
   "name": "python",
   "nbconvert_exporter": "python",
   "pygments_lexer": "ipython3",
   "version": "3.12.4"
  }
 },
 "nbformat": 4,
 "nbformat_minor": 5
}
